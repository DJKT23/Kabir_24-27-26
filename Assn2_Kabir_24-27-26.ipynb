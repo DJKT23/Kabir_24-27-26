{
 "cells": [
  {
   "cell_type": "code",
   "execution_count": 1,
   "id": "de58b12e-cac0-4cc4-a99e-1a9de50c3b60",
   "metadata": {},
   "outputs": [],
   "source": [
    "# Kabir Trivedi\n",
    "# 24-27-26\n",
    "# Mtech Data Science\n",
    "# Assignment 2"
   ]
  },
  {
   "cell_type": "code",
   "execution_count": 2,
   "id": "5032ce61-2cb7-4b3d-a3d9-2e055fb903bc",
   "metadata": {},
   "outputs": [
    {
     "name": "stdout",
     "output_type": "stream",
     "text": [
      "var1: [ 0  1  2  3  4  5  6  7  8  9 10 11 12 13 14 15 16 17 18 19 20 21 22 23\n",
      " 24 25 26 27 28 29 30] \n",
      "Shape: (31,)\n"
     ]
    }
   ],
   "source": [
    "# Q1\n",
    "\n",
    "# a)  Create a variable named var1 that stores an array of numbers from 0 to 30, inclusive. Print var1 and its shape.\n",
    "import numpy as np\n",
    "var1 = np.arange(31)\n",
    "print(f'var1: {var1} \\nShape: {var1.shape}')  #Printed var1 and its Shape"
   ]
  },
  {
   "cell_type": "code",
   "execution_count": 3,
   "id": "80cbbdc6-788e-4d64-8bda-bf2c0f520a3b",
   "metadata": {},
   "outputs": [
    {
     "name": "stdout",
     "output_type": "stream",
     "text": [
      "var2: [[ 1  2  3  4  5  6]\n",
      " [ 7  8  9 10 11 12]\n",
      " [13 14 15 16 17 18]\n",
      " [19 20 21 22 23 24]\n",
      " [25 26 27 28 29 30]] \n",
      "Shape: (5, 6)\n"
     ]
    }
   ],
   "source": [
    "# b) Change var2 to a validly-shaped two-dimensional matrix and store it in a new variable called var2. Print var2 and its shape.\n",
    "\n",
    "var2 = var1[1:].reshape(5,6)   #Converting to a 2d Matrix from var1 but starting from 1 to make a validly shaped matrix\n",
    "print(f'var2: {var2} \\nShape: {var2.shape}')"
   ]
  },
  {
   "cell_type": "code",
   "execution_count": 4,
   "id": "af55af77-5b5e-4d70-bf2b-31199a30d559",
   "metadata": {},
   "outputs": [
    {
     "name": "stdout",
     "output_type": "stream",
     "text": [
      "var3: [[[ 1  2  3  4  5]\n",
      "  [ 6  7  8  9 10]\n",
      "  [11 12 13 14 15]]\n",
      "\n",
      " [[16 17 18 19 20]\n",
      "  [21 22 23 24 25]\n",
      "  [26 27 28 29 30]]] \n",
      "Shape: (2, 3, 5)\n"
     ]
    }
   ],
   "source": [
    "# c)  Create a third variable, var3 that reshapes it into a valid three-dimensional shape. Print var3 and its shape\n",
    "\n",
    "var3 = var1[1:].reshape(2,3,5)  #Again starting with 1 to make a valid 3 Dimensional Matrix from var1\n",
    "print(f'var3: {var3} \\nShape: {var3.shape}')"
   ]
  },
  {
   "cell_type": "code",
   "execution_count": 5,
   "id": "7a61be18-0006-4b5f-b086-f2efe791be67",
   "metadata": {},
   "outputs": [
    {
     "name": "stdout",
     "output_type": "stream",
     "text": [
      "After Modifying var2 we get \n",
      "var1: [ 0  1  2  3  4  5  6 -1  8  9 10 11 12 13 14 15 16 17 18 19 20 21 22 23\n",
      " 24 25 26 27 28 29 30] \n",
      "var3:\n",
      "[[[ 1  2  3  4  5]\n",
      "  [ 6 -1  8  9 10]\n",
      "  [11 12 13 14 15]]\n",
      "\n",
      " [[16 17 18 19 20]\n",
      "  [21 22 23 24 25]\n",
      "  [26 27 28 29 30]]]\n"
     ]
    }
   ],
   "source": [
    "# d)Use two-dimensional array indexing to set the first value in the second row of var2 to -1. Now look at var1 and var3.\n",
    "#      Did they change? Explain what’s going on.  \n",
    "\n",
    "var2[1,0] = -1\n",
    "print(f'After Modifying var2 we get \\nvar1: {var1} \\nvar3:\\n{var3}')\n",
    "\n",
    "# Note: As we can see var1 and var3 both have the element '-1' and so it is seen that reshape() function returns a view and a copy.\n",
    "#       However in come cases it might give a copy"
   ]
  },
  {
   "cell_type": "code",
   "execution_count": 6,
   "id": "41154fbe-5365-4688-8e7e-6f565966bd80",
   "metadata": {},
   "outputs": [
    {
     "name": "stdout",
     "output_type": "stream",
     "text": [
      "Sum of var3 over its second dimension:\n",
      "[[18 13 24 27 30]\n",
      " [63 66 69 72 75]]\n",
      "Sum of var3 over its second dimension:\n",
      "[[ 15  32  65]\n",
      " [ 90 115 140]]\n",
      "Sum of var3 over its second dimension:\n",
      "[105 147 205]\n"
     ]
    }
   ],
   "source": [
    "# e)  Another thing that comes up a lot with array shapes is thinking about how to \n",
    "# aggregate over specific dimensions. Figure out how the NumPy sum function \n",
    "# works (and the axis argument in particular) and do the following:\n",
    "\n",
    "# (i) Sum var3 over its second dimension and print the result.\n",
    "sum_var3_over_second_dimension = np.sum(var3, axis=1)\n",
    "print(f'Sum of var3 over its second dimension:\\n{sum_var3_over_second_dimension}')\n",
    "\n",
    "# (ii) Sum var3 over its third dimension and print the result.\n",
    "sum_var3_over_third_dimension = np.sum(var3, axis=2)\n",
    "print(f'Sum of var3 over its second dimension:\\n{sum_var3_over_third_dimension}')\n",
    "\n",
    "# (iii) Sum var3 over both its first and third dimensions and print the result.\n",
    "sum_var3_over_first_and_third_dimension = np.sum(var3, axis=(0,2))\n",
    "print(f'Sum of var3 over its second dimension:\\n{sum_var3_over_first_and_third_dimension}')\n"
   ]
  },
  {
   "cell_type": "code",
   "execution_count": 7,
   "id": "224378d9-d645-4930-8efd-f24eb7f1e2f3",
   "metadata": {},
   "outputs": [
    {
     "name": "stdout",
     "output_type": "stream",
     "text": [
      "[[ 1  2  3  4  5  6]\n",
      " [-1  8  9 10 11 12]\n",
      " [13 14 15 16 17 18]\n",
      " [19 20 21 22 23 24]\n",
      " [25 26 27 28 29 30]]\n",
      "Second Row of var2: [-1  8  9 10 11 12]\n",
      "Last Column of var2: [ 6 12 18 24 30]\n",
      "Top Right SubMatrix of var2:\n",
      "[[ 5  6]\n",
      " [11 12]]\n"
     ]
    }
   ],
   "source": [
    "# f) Write code to do the following:\n",
    "print(var2)\n",
    "# (i) Slice out the second row of var2 and print it.\n",
    "print(f'Second Row of var2: {var2[1,]}')\n",
    "\n",
    "# (ii) Slice out the last column of var2 using the -1 notation and print it.\n",
    "print(f'Last Column of var2: {var2[:,-1]}')\n",
    "\n",
    "# (iii) Slice out the top right 2 × 2 submatrix of var2 and print it.\n",
    "print(f'Top Right SubMatrix of var2:\\n{var2[:2, -2:]}')"
   ]
  },
  {
   "cell_type": "code",
   "execution_count": 8,
   "id": "d53eb92d-d060-4cc4-b52f-2cbbdba35b21",
   "metadata": {},
   "outputs": [
    {
     "name": "stdout",
     "output_type": "stream",
     "text": [
      "Vector: [ 1  2  3  4  5  6  7  8  9 10]\n"
     ]
    }
   ],
   "source": [
    "# Q2\n",
    "\n",
    "# a) The most basic kind of broadcast is with a scalar, in which you can perform a \n",
    "# binary operation (e.g., add, multiply, ...) on an array and a scalar, the effect is to \n",
    "# perform that operation with the scalar for every element of the array. To try this \n",
    "# out, create a vector 1, 2, . . . , 10 by adding 1 to the result of the arange function.\n",
    "\n",
    "vector = np.arange(10) + 1\n",
    "print(f'Vector: {vector}')"
   ]
  },
  {
   "cell_type": "code",
   "execution_count": 9,
   "id": "ae4e5eb7-6c7e-4a16-9a0d-f0d3bed79ffe",
   "metadata": {},
   "outputs": [
    {
     "name": "stdout",
     "output_type": "stream",
     "text": [
      "10x10 Matrix with Aij = i+j using the above Vector: \n",
      "[[ 2  3  4  5  6  7  8  9 10 11]\n",
      " [ 3  4  5  6  7  8  9 10 11 12]\n",
      " [ 4  5  6  7  8  9 10 11 12 13]\n",
      " [ 5  6  7  8  9 10 11 12 13 14]\n",
      " [ 6  7  8  9 10 11 12 13 14 15]\n",
      " [ 7  8  9 10 11 12 13 14 15 16]\n",
      " [ 8  9 10 11 12 13 14 15 16 17]\n",
      " [ 9 10 11 12 13 14 15 16 17 18]\n",
      " [10 11 12 13 14 15 16 17 18 19]\n",
      " [11 12 13 14 15 16 17 18 19 20]]\n"
     ]
    }
   ],
   "source": [
    "# b)  Now, create a 10 × 10 matrix A in which Ai j = i + j. You’ll be able to do this \n",
    "#     using the vector you just created, and adding it to a reshaped version of itself.\n",
    "\n",
    "A = vector.reshape(10,1) + vector\n",
    "print(f'10x10 Matrix with Aij = i+j using the above Vector: \\n{A}')"
   ]
  },
  {
   "cell_type": "code",
   "execution_count": 10,
   "id": "47d79340-03de-44eb-9e5b-a72c861e7378",
   "metadata": {},
   "outputs": [
    {
     "name": "stdout",
     "output_type": "stream",
     "text": [
      "Random Data Set of Integers:\n",
      "[[ 1.02946559  0.77684591  1.00095194  0.6355278   1.32911177]\n",
      " [ 0.21185536  0.33153988  0.81430487  0.52527702  4.48615194]\n",
      " [ 5.46054586  0.44597507  0.89148446  1.20460329  3.19372574]\n",
      " [ 1.04773276  0.21340213  0.35705604  2.20488065  0.49197177]\n",
      " [10.81529136  0.517945    1.91162135  1.60644246  1.54036398]\n",
      " [ 1.62753747  1.03178844  1.70161886  0.15586543  1.14706033]\n",
      " [ 0.70747353  0.77926212  0.19452812  0.14136259  1.8866709 ]\n",
      " [ 0.42741461  1.39197096  2.19514798  0.42238738  1.3140373 ]\n",
      " [ 0.57672187  1.18564772  3.21441879  0.5245531   1.99278971]\n",
      " [ 0.90180727  0.39525946  0.70553703  2.1377799   2.14829374]\n",
      " [ 0.29044986  0.69044798  2.62447313  1.47847042  0.82058505]\n",
      " [ 0.28437826  1.56763583  1.64952651  0.90492782 15.98483042]\n",
      " [ 0.52594027  0.73420326  1.13242341  0.69477757  0.76442682]\n",
      " [ 1.46674085  0.22906733  0.23714862  0.29228309  0.08687482]\n",
      " [ 1.08690979  0.29392741  1.8224096   1.63900378  3.56585754]\n",
      " [ 0.22964178  0.34458465  2.41373976  5.48229064  1.05795205]\n",
      " [ 4.10889459  1.43603469  0.17128891  0.36370624  0.42835303]\n",
      " [10.24448031  0.9211397   8.13913647  1.69663945  0.10739475]\n",
      " [ 3.61495755  0.43784586  4.58457684  0.8129558   1.22802391]\n",
      " [ 4.58114013  1.02286475  1.41694534  1.48690915  4.2407387 ]\n",
      " [ 0.87291751  3.70337444  4.19946215  1.47533602  2.14876576]\n",
      " [ 1.37319461  1.18622629  0.61583898  4.10796805  3.2860925 ]\n",
      " [ 0.81077418  0.82050066  0.47850122  0.74342129  0.87457476]\n",
      " [ 1.49095051  0.75808192  1.45891604  0.85647472  0.45553143]\n",
      " [ 5.05276037  2.0643716   0.2310337   0.97651576  1.07677839]\n",
      " [ 2.4468698   0.43819715  0.38682698  3.45684424  0.9927297 ]\n",
      " [ 1.91483857  0.59766629  5.0118675   1.41048292  1.84305497]\n",
      " [ 0.80712881  1.72328112  1.43590347  1.11836583  0.93179229]\n",
      " [ 2.07763516  0.54374224  1.17100375  0.45576288  2.42551133]\n",
      " [ 3.2016535   0.99881271  0.20594607  0.50644733  1.45927627]\n",
      " [ 0.28523925  0.99590106  0.27866357  5.4689161   2.86590034]\n",
      " [ 0.30685659  1.33541163  2.98761516  0.28111269  3.13477414]\n",
      " [ 0.78002527  0.17310651  1.44691527  0.82938237  1.53416473]\n",
      " [ 4.2385771   1.44713808  0.20711314  0.50031944  5.32481404]\n",
      " [ 0.38538902  0.50853304  1.08246821  2.85770013  0.6861382 ]\n",
      " [ 1.54474908  0.03801268  5.77107999  2.61270702  0.99530907]\n",
      " [ 0.76847453  0.73586728  2.78793697  1.00647282  0.96933238]\n",
      " [ 1.9745706   0.60359788  2.19917191  1.97905495  2.29770974]\n",
      " [ 0.57550158  0.230337    0.62609507  0.67860415  1.23617485]\n",
      " [ 0.36668608  1.77798031  0.77886831  0.59447652  5.25042509]\n",
      " [ 0.8348082   1.89172539  6.16785329  0.14137391  1.41489224]\n",
      " [ 0.63600704  1.94879198  0.70550259  2.73005109  0.47319192]\n",
      " [ 0.39093711  0.71320635  0.61804365  3.1775183   2.55430488]\n",
      " [ 1.74570258  0.5049189   0.08983517  1.53331642  0.24580059]\n",
      " [ 1.24326713  0.98425309  1.38027995  1.71074009  3.08206246]\n",
      " [ 0.88745532  2.28953397  0.75928721  1.38845123  0.66820968]\n",
      " [ 1.98875856  0.40361119  2.57764024  0.4586505   4.12850632]\n",
      " [ 1.6874198   0.71810208  0.27138598  0.464168    0.99740539]\n",
      " [ 1.44172248  0.65501087  6.28523943  0.35531798  1.82240155]\n",
      " [ 0.46509127  1.91364533  1.85744569  1.42158974  0.25824146]]\n"
     ]
    }
   ],
   "source": [
    "# c) & d) A very common use of broadcasting is to standardize data, i.e., to make it have \n",
    "#    zero mean and unit variance. First, create a fake “data set” with 50 examples, \n",
    "#    each with five dimensions.\n",
    "\n",
    "data = np.exp(np.random.randn(50, 5))\n",
    "print(f'Random Data Set of Integers:\\n{data}')"
   ]
  },
  {
   "cell_type": "code",
   "execution_count": 11,
   "id": "79fb276b-6c2e-458a-9e6f-45ecb68ce799",
   "metadata": {},
   "outputs": [
    {
     "name": "stdout",
     "output_type": "stream",
     "text": [
      "Mean: [1.83670681 0.94900654 1.82504157 1.39416372 2.06498161]\n",
      "Standard Deviation: [2.20186674 0.67955986 1.8284358  1.22971989 2.38120347]\n"
     ]
    }
   ],
   "source": [
    "# e) Now, compute the mean and standard deviation of each column.\n",
    "#    This should result in two vectors of length 5. You’ll need to think a little bit about how to use \n",
    "#    the axis argument to mean and std. Store these vectors into variables and print both of them.\n",
    "\n",
    "mean = np.mean(data, axis=0)\n",
    "standard_deviation = np.std(data, axis=0)\n",
    "print(f'Mean: {mean}\\nStandard Deviation: {standard_deviation}')"
   ]
  },
  {
   "cell_type": "code",
   "execution_count": 12,
   "id": "76a9e062-0e70-4c31-a82e-eb227bf4c626",
   "metadata": {},
   "outputs": [
    {
     "name": "stdout",
     "output_type": "stream",
     "text": [
      "Normalized Matrix: \n",
      "[[-3.66616751e-01 -2.53341388e-01 -4.50707449e-01 -6.16917659e-01\n",
      "  -3.09032744e-01]\n",
      " [-7.37942688e-01 -9.08627339e-01 -5.52787637e-01 -7.06572862e-01\n",
      "   1.01678431e+00]\n",
      " [ 1.64580308e+00 -7.40231290e-01 -5.10576919e-01 -1.54149277e-01\n",
      "   4.74022545e-01]\n",
      " [-3.58320527e-01 -1.08247185e+00 -8.02864138e-01  6.59269587e-01\n",
      "  -6.60594469e-01]\n",
      " [ 4.07771479e+00 -6.34324615e-01  4.73518280e-02  1.72623651e-01\n",
      "  -2.20316173e-01]\n",
      " [-9.49963684e-02  1.21816924e-01 -6.75018010e-02 -1.00697590e+00\n",
      "  -3.85486286e-01]\n",
      " [-5.12852691e-01 -2.49785828e-01 -8.91753190e-01 -1.01876951e+00\n",
      "  -7.48826052e-02]\n",
      " [-6.40044276e-01  6.51840167e-01  2.02416957e-01 -7.90242030e-01\n",
      "  -3.15363353e-01]\n",
      " [-5.72234880e-01  3.48227129e-01  7.59872029e-01 -7.07161546e-01\n",
      "  -3.03174018e-02]\n",
      " [-4.24594063e-01 -8.14861374e-01 -6.12274462e-01  6.04703710e-01\n",
      "   3.49874017e-02]\n",
      " [-7.02248202e-01 -3.80479461e-01  4.37221563e-01  6.85576472e-02\n",
      "  -5.22591444e-01]\n",
      " [-7.05005680e-01  9.10338188e-01 -9.59919228e-02 -3.97843365e-01\n",
      "   5.84572002e+00]\n",
      " [-5.95297853e-01 -3.16091782e-01 -3.78803653e-01 -5.68736142e-01\n",
      "  -5.46175413e-01]\n",
      " [-1.68023776e-01 -1.05941987e+00 -8.68443374e-01 -8.96041969e-01\n",
      "  -8.30717249e-01]\n",
      " [-3.40527888e-01 -9.63975611e-01 -1.43947015e-03  1.99102304e-01\n",
      "   6.30301419e-01]\n",
      " [-7.29864802e-01 -8.89431425e-01  3.21968203e-01  3.32443749e+00\n",
      "  -4.22907816e-01]\n",
      " [ 1.03193701e+00  7.16681747e-01 -9.04463076e-01 -8.37961137e-01\n",
      "  -6.87311523e-01]\n",
      " [ 3.81847519e+00 -4.10071926e-02  3.45327679e+00  2.45971239e-01\n",
      "  -8.22099788e-01]\n",
      " [ 8.07610519e-01 -7.52193755e-01  1.50923279e+00 -4.72634395e-01\n",
      "  -3.51485168e-01]\n",
      " [ 1.24641209e+00  1.08685351e-01 -2.23194181e-01  7.54199609e-02\n",
      "   9.13721619e-01]\n",
      " [-4.37714638e-01  4.05316451e+00  1.29860757e+00  6.60087671e-02\n",
      "   3.51856300e-02]\n",
      " [-2.10508745e-01  3.49078518e-01 -6.61331720e-01  2.20684755e+00\n",
      "   5.12812492e-01]\n",
      " [-4.65937660e-01 -1.89101638e-01 -7.36443879e-01 -5.29179396e-01\n",
      "  -4.99918160e-01]\n",
      " [-1.57028714e-01 -2.80953352e-01 -2.00239756e-01 -4.37245101e-01\n",
      "  -6.75897798e-01]\n",
      " [ 1.46060318e+00  1.64130509e+00 -8.71787721e-01 -3.39628531e-01\n",
      "  -4.15001591e-01]\n",
      " [ 2.77111679e-01 -7.51676819e-01 -7.86581946e-01  1.67735801e+00\n",
      "  -4.50298319e-01]\n",
      " [ 3.54843237e-02 -5.17011491e-01  1.74292471e+00  1.32706601e-02\n",
      "  -9.31993615e-02]\n",
      " [-4.67593240e-01  1.13937656e+00 -2.12825685e-01 -2.24277000e-01\n",
      "  -4.75889330e-01]\n",
      " [ 1.09420038e-01 -5.96362920e-01 -3.57703466e-01 -7.63101294e-01\n",
      "   1.51406513e-01]\n",
      " [ 6.19904313e-01  7.32917951e-02 -8.85508532e-01 -7.21885042e-01\n",
      "  -2.54369419e-01]\n",
      " [-7.04614651e-01  6.90071960e-02 -8.45738201e-01  3.31356141e+00\n",
      "   3.36350395e-01]\n",
      " [-6.94796917e-01  5.68610823e-01  6.35829592e-01 -9.05125664e-01\n",
      "   4.49265483e-01]\n",
      " [-4.79902587e-01 -1.14176849e+00 -2.06803163e-01 -4.59276425e-01\n",
      "  -2.22919585e-01]\n",
      " [ 1.09083363e+00  7.33020830e-01 -8.84870244e-01 -7.26868195e-01\n",
      "   1.36898525e+00]\n",
      " [-6.59130623e-01 -6.48174695e-01 -4.06124932e-01  1.19013803e+00\n",
      "  -5.79053168e-01]\n",
      " [-1.32595552e-01 -1.34056456e+00  2.15814984e+00  9.90911273e-01\n",
      "  -4.49215094e-01]\n",
      " [-4.85148475e-01 -3.13643108e-01  5.26622481e-01 -3.15267647e-01\n",
      "  -4.60124155e-01]\n",
      " [ 6.26122289e-02 -5.08282912e-01  2.04617706e-01  4.75629638e-01\n",
      "   9.77355051e-02]\n",
      " [-5.72789083e-01 -1.05755150e+00 -6.55722504e-01 -5.81888266e-01\n",
      "  -3.48062135e-01]\n",
      " [-6.67624751e-01  1.21986866e+00 -5.72168442e-01 -6.50300285e-01\n",
      "   1.33774518e+00]\n",
      " [-4.55022368e-01  1.38724917e+00  2.37515133e+00 -1.01876031e+00\n",
      "  -2.73008747e-01]\n",
      " [-5.45309922e-01  1.47122497e+00 -6.12293299e-01  1.08633468e+00\n",
      "  -6.68481177e-01]\n",
      " [-6.56610901e-01 -3.46989583e-01 -6.60125955e-01  1.45021203e+00\n",
      "   2.05494099e-01]\n",
      " [-4.13304912e-02 -6.53493056e-01 -9.49011395e-01  1.13158046e-01\n",
      "  -7.63975463e-01]\n",
      " [-2.69516621e-01  5.18667333e-02 -2.43247054e-01  2.57437786e-01\n",
      "   4.27128909e-01]\n",
      " [-4.31112144e-01  1.97264069e+00 -5.82877651e-01 -4.64535853e-03\n",
      "  -5.86582355e-01]\n",
      " [ 6.90558370e-02 -8.02571471e-01  4.11607923e-01 -7.60753104e-01\n",
      "   8.66588990e-01]\n",
      " [-6.78002040e-02 -3.39785316e-01 -8.49718430e-01 -7.56266305e-01\n",
      "  -4.48334736e-01]\n",
      " [-1.79386120e-01 -4.32626602e-01  2.43935163e+00 -8.44782417e-01\n",
      "  -1.01872885e-01]\n",
      " [-6.22933042e-01  1.41950525e+00  1.77223148e-02  2.23026546e-02\n",
      "  -7.58750848e-01]]\n",
      "Mean of normalized data: [ 1.46549439e-16 -6.97220059e-16 -1.18030585e-16 -6.07847106e-16\n",
      "  1.82076576e-16]\n",
      "Standard deviation of normalized data: [1. 1. 1. 1. 1.]\n"
     ]
    }
   ],
   "source": [
    "# f)Now standardize the data matrix by 1) subtracting the mean off of each column, \n",
    "#   and 2) dividing each column by its standard deviation. \n",
    "#   Do this via broadcasting, and store the result in a matrix called normalized.\n",
    "#   To verify that you successfully did it, compute the mean and standard deviation of\n",
    "#   the columns of normalized and print them out.\n",
    "\n",
    "normalized = (data - mean) / standard_deviation\n",
    "print(f'Normalized Matrix: \\n{normalized}')\n",
    "\n",
    "normalized_mean = np.mean(normalized, axis=0)\n",
    "normalized_std = np.std(normalized, axis=0)\n",
    "\n",
    "print(f'Mean of normalized data: {normalized_mean}')\n",
    "print(f'Standard deviation of normalized data: {normalized_std}')"
   ]
  },
  {
   "cell_type": "code",
   "execution_count": 13,
   "id": "22be4a6c-e5b7-41dd-bad3-a24559021967",
   "metadata": {},
   "outputs": [
    {
     "name": "stdout",
     "output_type": "stream",
     "text": [
      "Vandermonde Matrix: \n",
      "[[          1           1           1           1           1           1\n",
      "            1           1           1           1           1           1]\n",
      " [          1           2           4           8          16          32\n",
      "           64         128         256         512        1024        2048]\n",
      " [          1           3           9          27          81         243\n",
      "          729        2187        6561       19683       59049      177147]\n",
      " [          1           4          16          64         256        1024\n",
      "         4096       16384       65536      262144     1048576     4194304]\n",
      " [          1           5          25         125         625        3125\n",
      "        15625       78125      390625     1953125     9765625    48828125]\n",
      " [          1           6          36         216        1296        7776\n",
      "        46656      279936     1679616    10077696    60466176   362797056]\n",
      " [          1           7          49         343        2401       16807\n",
      "       117649      823543     5764801    40353607   282475249  1977326743]\n",
      " [          1           8          64         512        4096       32768\n",
      "       262144     2097152    16777216   134217728  1073741824           0]\n",
      " [          1           9          81         729        6561       59049\n",
      "       531441     4782969    43046721   387420489  -808182895  1316288537]\n",
      " [          1          10         100        1000       10000      100000\n",
      "      1000000    10000000   100000000  1000000000  1410065408  1215752192]\n",
      " [          1          11         121        1331       14641      161051\n",
      "      1771561    19487171   214358881 -1937019605   167620825  1843829075]\n",
      " [          1          12         144        1728       20736      248832\n",
      "      2985984    35831808   429981696   864813056  1787822080   -20971520]]\n"
     ]
    }
   ],
   "source": [
    "# Q3)\n",
    "\n",
    "#  a) A Vandermonde matrix is a matrix generated from a vector in which each column \n",
    "#     of the matrix is an integer power starting from zero.\n",
    "\n",
    "def Vandermonde(N):\n",
    "    base = np.arange(N) + 1\n",
    "    power = np.arange(N)\n",
    "    base = base.reshape(N, 1)\n",
    "\n",
    "    vander_matrix = base ** power\n",
    "    return vander_matrix\n",
    "\n",
    "vander = Vandermonde(12)\n",
    "print(f'Vandermonde Matrix: \\n{vander}')"
   ]
  },
  {
   "cell_type": "code",
   "execution_count": 14,
   "id": "986a7396-1b0c-49fb-9562-ee5a5c5b01f8",
   "metadata": {},
   "outputs": [
    {
     "name": "stdout",
     "output_type": "stream",
     "text": [
      "Vector of all ones of Length 12: [1. 1. 1. 1. 1. 1. 1. 1. 1. 1. 1. 1.]\n",
      "Matrix-Vector Multiplication result: \n",
      "[1.20000000e+01 4.09500000e+03 2.65720000e+05 5.59240500e+06\n",
      " 6.10351560e+07 4.35356467e+08 2.30688120e+09 1.22713351e+09\n",
      " 9.43953692e+08 3.73692871e+09 3.10225064e+08 3.10073456e+09]\n"
     ]
    }
   ],
   "source": [
    "# b)  Now, let’s make a pretend linear system problem with this matrix. Create a vector \n",
    "#     of all ones, of length 12 and call it x. Perform a matrix-vector multiplication of \n",
    "#     vander with the vector you just created and store that in a new vector and call it b. \n",
    "#     Print the vector b\n",
    "\n",
    "x = np.ones(12)\n",
    "print(f'Vector of all ones of Length 12: {x}')\n",
    "\n",
    "b = vander @ x # or we can also use the '.dot()' function\n",
    "print(f'Matrix-Vector Multiplication result: \\n{b}')"
   ]
  },
  {
   "cell_type": "code",
   "execution_count": 15,
   "id": "a68821f4-08e2-4a59-9dea-4d7a7b306ffe",
   "metadata": {},
   "outputs": [
    {
     "name": "stdout",
     "output_type": "stream",
     "text": [
      "Doing it the naïve way we get: \n",
      "[1.00000572 0.99735641 1.00311279 0.999506   1.00002861 0.99999857\n",
      " 1.0000001  1.         1.         1.         1.         1.        ]\n"
     ]
    }
   ],
   "source": [
    "# c)  First, solve the linear system the naïve way, pretending like you don’t know x. \n",
    "#     Import numpy.linalg, invert V and multiply it by b. Print out your result. What \n",
    "#     should you get for your answer? If the answer is different than what you \n",
    "#     expected, write a sentence about that difference\n",
    "\n",
    "import numpy.linalg as linalg\n",
    "\n",
    "naïve_way = linalg.inv(vander) @ b\n",
    "print(f'Doing it the naïve way we get: \\n{naïve_way}')\n",
    "\n",
    "# Note: The solution should be a vector of ones as x was a vector of one but as we can see some values are not exactly 1\n",
    "#       because of the floating point representation."
   ]
  },
  {
   "cell_type": "code",
   "execution_count": 16,
   "id": "8bf06c96-62d8-4ef4-bf8e-0896830a346f",
   "metadata": {},
   "outputs": [
    {
     "name": "stdout",
     "output_type": "stream",
     "text": [
      "Using the Solve Function we get: \n",
      "[1.00000067 0.99999715 1.00000411 0.99999733 1.00000089 0.99999984\n",
      " 1.00000002 1.         1.         1.         1.         1.        ]\n"
     ]
    }
   ],
   "source": [
    "# d) Now, solve the same linear system using solve. Print out the result. Does it seem \n",
    "#    more or less in line with what you’d expect?\n",
    "\n",
    "using_solve = linalg.solve(vander, b)\n",
    "print(f'Using the Solve Function we get: \\n{using_solve}')\n",
    "\n",
    "# Note: The solve function provides more efficient solution than doing it the normal way as all the values are more closer to 1. "
   ]
  },
  {
   "cell_type": "code",
   "execution_count": 17,
   "id": "a8200e5f-0a6c-43c2-964e-321a1b5b2df3",
   "metadata": {},
   "outputs": [],
   "source": [
    "# https://github.com/DJKT23/Kabir_24-27-26"
   ]
  }
 ],
 "metadata": {
  "kernelspec": {
   "display_name": "Python 3 (ipykernel)",
   "language": "python",
   "name": "python3"
  },
  "language_info": {
   "codemirror_mode": {
    "name": "ipython",
    "version": 3
   },
   "file_extension": ".py",
   "mimetype": "text/x-python",
   "name": "python",
   "nbconvert_exporter": "python",
   "pygments_lexer": "ipython3",
   "version": "3.12.4"
  }
 },
 "nbformat": 4,
 "nbformat_minor": 5
}
